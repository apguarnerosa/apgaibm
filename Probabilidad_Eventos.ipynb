{
 "cells": [
  {
   "cell_type": "markdown",
   "id": "6d9ac13c",
   "metadata": {},
   "source": [
    "## Probabilidad (eventos\n",
    "\n",
    "La fundamentacion teórica de la probabilidad se dio mediante una ´\n",
    "construccion axiom ´ atica, la cual se debe a Andrei Kolmogorov y fue ´\n",
    "publicada en el ano de 1933. Esta relaciona la teor ˜ ´ıa de la probabilidad con la teor´ıa de la medida, la cual era reciente y fue trabajada por\n",
    "´ Emile Borel y Henri Lebesgue. Introduciremos los espacios de probabilidad se acuerdo a estos axiomas\n"
   ]
  },
  {
   "cell_type": "markdown",
   "id": "9c9e7275",
   "metadata": {},
   "source": [
    "## EXPERIMENTOS ALEATORIOS Y EVENTOS\n",
    "\n",
    "Un experimento aleatorio es un experimento E que reproducido en\n",
    "condiciones identicas puede conducir a varios resultados, en el cual ´\n",
    "no se puede predecir el resultado\n",
    "\n",
    "El espacio de todos los posibles resultados de un experimento aleatorios es llamado espacio de estados, y es denotado por Ω. Un posible\n",
    "resultado del experimento aleatorio se denota por ω, donde ω ∈ Ω.\n",
    "\n",
    "- El lanzamiento de una moneda : Ω = {águila, sol}\n",
    "- El lanzamiento de un dado: Ω = {1, 2, 3, 4, 5, 6}\n",
    "\n",
    "Un evento aleatorio (asociado al experimento E) es un subconjunto de\n",
    "Ω, donde se puede decir si el experimento se realiza o no. Un evento\n",
    "aleatorio A es un subconjunto de Ω.\n",
    "\n",
    "- A: Se obtiene sol al lanzar una moneda.\n",
    "- A: Se obtiene un 3 al lanzar un dado\n",
    "\n",
    "\n",
    "## Tipos de Eventos\n",
    "\n",
    "- Evento cierto: $\\Omega$\n",
    "- Evento imposible: $\\emptyset$\n",
    "- Si A es un evento, entonces $A^c$ (no sucede A)\n",
    "- A $\\cup$ B : sucede A y B\n",
    "- A $\\cap$ B sucede A o B\n",
    "\n",
    "\n",
    "## Espacios de Probabilidad\n",
    "\n",
    "Un espacio de probabilidad es una terna (Ω, F, P), donde Ω es un\n",
    "conjunto no vac´ıo, F es la familia de subconjuntos de Ω y P es una\n",
    "medida de probabilidad, la cual le asigna un numero no negativo a ´\n",
    "un evento, esta ultima es una funci ´ on ´ P : F → [0, 1] que verifica los\n",
    "siguientes axiomas:\n",
    "1. Si A ∈ F, entonces 0 ≤ P(A) ≤ 1.\n",
    "2. La probabilidad del espacio de estados Ω es igual a 1, es decir,\n",
    "P(Ω) = 1.\n",
    "3. Si (An)n≥1 es una sucesion finita o infinita numerable de ´\n",
    "elementos de F, que son mutuamente excluyentes dos a dos (es\n",
    "decir, Ai ∩ Aj = ∅ para i ̸= j), entonces\n",
    "\n",
    "$$\n",
    "\\mathbb{P}\\left( \\bigcup_{n=1}^{\\infty} A_n \\right)\n",
    "= \\sum_{n=1}^{\\infty} \\mathbb{P}(A_n).\n",
    "$$\n",
    "\n",
    "$\\mathbb{P}(A \\cup B) = \\mathbb{P}(A) + \\mathbb{P}(B)$\n",
    "\n",
    "**Propiedades:**\n",
    "\n",
    "1. $\\mathbb{P}(\\varnothing) = 0$\n",
    "\n",
    "2. $\\mathbb{P}(A^c) = 1 - \\mathbb{P}(A)$\n",
    "\n",
    "3. Si $A \\subseteq B$, entonces $\\mathbb{P}(A) \\leq \\mathbb{P}(B)$\n",
    "\n",
    "4. Si $A \\subseteq B$, entonces $\\mathbb{P}(B \\setminus A) = \\mathbb{P}(B) - \\mathbb{P}(A)$\n"
   ]
  },
  {
   "cell_type": "markdown",
   "id": "9645bb66",
   "metadata": {},
   "source": [
    "# Probabilidad Laplaciana\n",
    "\n",
    "La definicion cl ´ asica de probabilidad fue introducida en el a ´ no 1812 ˜\n",
    "por Pierre-Simon Laplace, se baso en el concepto de equiprobabilidad ´\n",
    "como una propiedad objetiva de los eventos asociados a un experimento aleatorio.\n",
    "Supongamos que Ω = {ω1, ω2, . . . , ωn} es un conjunto finito no vac´ıo y\n",
    "sea F = P(Ω), los elementos {ωi} tienen la misma probabilidad 1/n, y\n",
    "se tiene que la probabilidad de un evento A es:\n",
    "\n",
    "$\\mathbb{P}(A) = \\frac{casos favorables}{casos totales} =\n",
    "\\frac{|A|}{|Ω|} , para toda A ⊂ Ω.$"
   ]
  },
  {
   "cell_type": "markdown",
   "id": "16ad85b3",
   "metadata": {},
   "source": [
    "## Modelo Frecuentista\n",
    "\n",
    "Consideremos el experimento de lanzar una moneda:\n",
    "\n",
    "- 1 lanzamiento: 1 cara. ← No podemos decir nada.\n",
    "\n",
    "- 3 lanzamientos: 2 caras y 1 sol. ← No podemos decir nada.\n",
    "\n",
    "- 300 lanzamientos: 200 caras y 100 soles. ← Empezamos a\n",
    "hacernos preguntas.\n",
    "\n",
    "- 3000 lanzamientos: 2000 caras y 1000 soles. ← Es casi seguro que\n",
    "la moneda esta cargada.\n",
    "\n",
    "La repeticion del experimento es la que nos da la información, y tenemos que la frecuencia emp´ırica del evento cara es $\\frac{2000}{3000} =\n",
    "\\frac{2}{3}$\n",
    "\n",
    "Esta frecuencia nos da una idea de la posibilidad de obtener cara en el lanzamiento de la moneda porque el numero de repeticiones es grande."
   ]
  },
  {
   "cell_type": "markdown",
   "id": "dfbb24c9",
   "metadata": {},
   "source": [
    "## Variables Aleatorias\n",
    "\n",
    "- Discretas: Toman valores en un conjunto discreto (N, Z). Puede ser finito o no.\n",
    "\n",
    "- Continuas: Toman valores sobre un intervalo.\n",
    "\n",
    "- Mixtas: Combinación de discretas y continuas."
   ]
  },
  {
   "cell_type": "markdown",
   "id": "9b8124f1",
   "metadata": {},
   "source": [
    "### Ejemplo:\n",
    "\n",
    "Para un experimento aleatorio, se tiene que $\\Omega$ es el espacio muestral.\n",
    "\n",
    "Sea $A$ un evento, entonces\n",
    "\n",
    "$$ \\mathbb{P}(A) = \\frac{|A|}{|\\Omega|} $$\n",
    "\n",
    "**Ejemplo** Sea el experimento aleatorio de lanzar una moneda 3 veces, de manera independiente, es decir, el $i$-ésimo lanzamiento no me afecta al $i+1$ lanzamiento. El espacio muestral de este experimento es:\n",
    "$$ \\Omega = \\{ A,S \\} \\times \\{ A,S \\} \\times \\{ A,S \\}  = \\{ A,S \\}^3$$\n",
    "\n",
    "$$ (S,S,S),(S,A,S)$$\n",
    " \n",
    "\n",
    "y se tiene que $|\\Omega| = 2^{3}$.\n",
    "\n",
    "Sean los eventos:\n",
    "- $A$: todos los resultados son águila\n",
    "- $S$: todos los resultados son soles\n",
    "- $E$: por lo menos un resultado es sol\n",
    "\n",
    "Calcular las probabilidades de $A$, $S$ y $E$.\n",
    "\n",
    "**Solución** Para $A$, vamos a descomponer al conjunto de la siguiente manera: $A = A_1 \\cap A_2 \\cap A_3$ donde $A_{i}:$ cae águila en el i-esimo coordenada."
   ]
  },
  {
   "cell_type": "code",
   "execution_count": 23,
   "id": "257a147d",
   "metadata": {},
   "outputs": [],
   "source": [
    "# Vamos a crear el espacio muestral\n",
    "\n",
    "# Importamos el modulo \n",
    "import itertools\n",
    "from itertools import product"
   ]
  },
  {
   "cell_type": "code",
   "execution_count": 24,
   "id": "f91f097d",
   "metadata": {},
   "outputs": [
    {
     "data": {
      "text/plain": [
       "{('A', 'A', 'A'),\n",
       " ('A', 'A', 'S'),\n",
       " ('A', 'S', 'A'),\n",
       " ('A', 'S', 'S'),\n",
       " ('S', 'A', 'A'),\n",
       " ('S', 'A', 'S'),\n",
       " ('S', 'S', 'A'),\n",
       " ('S', 'S', 'S')}"
      ]
     },
     "execution_count": 24,
     "metadata": {},
     "output_type": "execute_result"
    }
   ],
   "source": [
    "Omega = set(product({\"A\",\"S\"}, repeat=3))\n",
    "# product -> genera todas las tuplas de longitud 3\n",
    "# set -> lo convierte en conjunto\n",
    "Omega"
   ]
  },
  {
   "cell_type": "code",
   "execution_count": 25,
   "id": "45e51c39",
   "metadata": {},
   "outputs": [
    {
     "data": {
      "text/plain": [
       "8"
      ]
     },
     "execution_count": 25,
     "metadata": {},
     "output_type": "execute_result"
    }
   ],
   "source": [
    "# La cardinalidad de Omega es:\n",
    "len(Omega)"
   ]
  },
  {
   "cell_type": "code",
   "execution_count": 26,
   "id": "7c20295c",
   "metadata": {},
   "outputs": [
    {
     "data": {
      "text/plain": [
       "{('A', 'A', 'A'), ('A', 'A', 'S'), ('A', 'S', 'A'), ('A', 'S', 'S')}"
      ]
     },
     "execution_count": 26,
     "metadata": {},
     "output_type": "execute_result"
    }
   ],
   "source": [
    "# Vamos a crear el evento A1\n",
    "A_1 = {om for om in Omega if om[0]==\"A\"} \n",
    "A_1"
   ]
  },
  {
   "cell_type": "code",
   "execution_count": 27,
   "id": "494fe753",
   "metadata": {},
   "outputs": [
    {
     "data": {
      "text/plain": [
       "{('A', 'A', 'A'), ('A', 'A', 'S'), ('S', 'A', 'A'), ('S', 'A', 'S')}"
      ]
     },
     "execution_count": 27,
     "metadata": {},
     "output_type": "execute_result"
    }
   ],
   "source": [
    "# Vamos a crear el evento A_2\n",
    "A_2 = {om for om in Omega if om[1]==\"A\"} \n",
    "A_2"
   ]
  },
  {
   "cell_type": "code",
   "execution_count": 28,
   "id": "08631def",
   "metadata": {},
   "outputs": [
    {
     "data": {
      "text/plain": [
       "{('A', 'A', 'A'), ('A', 'S', 'A'), ('S', 'A', 'A'), ('S', 'S', 'A')}"
      ]
     },
     "execution_count": 28,
     "metadata": {},
     "output_type": "execute_result"
    }
   ],
   "source": [
    "# Vamos a crear el evento A_2\n",
    "A_3 = {om for om in Omega if om[2]==\"A\"} \n",
    "A_3"
   ]
  },
  {
   "cell_type": "code",
   "execution_count": 29,
   "id": "8773fdc1",
   "metadata": {},
   "outputs": [
    {
     "data": {
      "text/plain": [
       "{('A', 'A', 'A')}"
      ]
     },
     "execution_count": 29,
     "metadata": {},
     "output_type": "execute_result"
    }
   ],
   "source": [
    "# Vamos a crear el evento A\n",
    "A = A_1.intersection(A_2.intersection(A_3))  #A1\\cap(A_2 \\cap A_3)\n",
    "A"
   ]
  },
  {
   "cell_type": "code",
   "execution_count": 30,
   "id": "917a1a75",
   "metadata": {},
   "outputs": [],
   "source": [
    "card_A = len(A)"
   ]
  },
  {
   "cell_type": "code",
   "execution_count": 31,
   "id": "f89e37fc",
   "metadata": {},
   "outputs": [
    {
     "data": {
      "text/plain": [
       "0.125"
      ]
     },
     "execution_count": 31,
     "metadata": {},
     "output_type": "execute_result"
    }
   ],
   "source": [
    "# Calculamos la probabilidad \n",
    "P_A = card_A / len(Omega)\n",
    "P_A"
   ]
  },
  {
   "cell_type": "code",
   "execution_count": 32,
   "id": "02e99b7a",
   "metadata": {},
   "outputs": [],
   "source": [
    "from fractions import Fraction\n",
    "def p(E,Omega):\n",
    "    p = Fraction(len(E),len(Omega))\n",
    "    return p"
   ]
  },
  {
   "cell_type": "code",
   "execution_count": 33,
   "id": "6abb2c40",
   "metadata": {},
   "outputs": [
    {
     "data": {
      "text/plain": [
       "Fraction(1, 8)"
      ]
     },
     "execution_count": 33,
     "metadata": {},
     "output_type": "execute_result"
    }
   ],
   "source": [
    "proba_A = p(A,Omega)\n",
    "proba_A"
   ]
  },
  {
   "cell_type": "markdown",
   "id": "bcf02338",
   "metadata": {},
   "source": [
    "## Probabilidad condicional"
   ]
  },
  {
   "cell_type": "markdown",
   "id": "fe5deb81",
   "metadata": {},
   "source": [
    "Si añadimos condiciones a nuestro experimento en cuestión, la probabilidad cambia. \n",
    "\n",
    "Definimos la probabilidad de que ocurra un evento $A$ **sabiendo** que ocurre un evento $B$,\n",
    "$$ \\mathbb{P}(A \\mid B) = \\frac{\\mathbb{P}(A \\cap B)}{\\mathbb{P}(B)} = \\frac{|A\\cap B|}{|B|}$$\n",
    "donde $\\mathbb{P}(B)>0$.\n"
   ]
  },
  {
   "cell_type": "code",
   "execution_count": 34,
   "id": "c29835cd",
   "metadata": {},
   "outputs": [],
   "source": [
    "# Vamos a definir la función para la proba condicional\n",
    "\n",
    "def prob_cond(E,F):\n",
    "    return len(E & F) / len(F)"
   ]
  },
  {
   "cell_type": "markdown",
   "id": "4f736988",
   "metadata": {},
   "source": [
    "Quiero calcular la probabilidad condicional de los siguientes eventos:\n",
    "\n",
    "- B: El primer lanzamiento es águila\n",
    "- C: Dos de los resultados son águila (exactamente)"
   ]
  },
  {
   "cell_type": "code",
   "execution_count": 35,
   "id": "45798c36",
   "metadata": {},
   "outputs": [
    {
     "data": {
      "text/plain": [
       "{('A', 'A', 'A'), ('A', 'A', 'S'), ('A', 'S', 'A'), ('A', 'S', 'S')}"
      ]
     },
     "execution_count": 35,
     "metadata": {},
     "output_type": "execute_result"
    }
   ],
   "source": [
    "# El primer lanzamiento es águila\n",
    "B = {om for om in Omega if om[0]==\"A\"}\n",
    "B"
   ]
  },
  {
   "cell_type": "code",
   "execution_count": 36,
   "id": "4a7cbc9d",
   "metadata": {},
   "outputs": [
    {
     "data": {
      "text/plain": [
       "{('A', 'A', 'S'), ('A', 'S', 'A'), ('S', 'A', 'A')}"
      ]
     },
     "execution_count": 36,
     "metadata": {},
     "output_type": "execute_result"
    }
   ],
   "source": [
    "# Dos de los resultados son águila \n",
    "C = {om for om in Omega if om.count(\"A\")==2}\n",
    "C"
   ]
  },
  {
   "cell_type": "code",
   "execution_count": 37,
   "id": "4284de55",
   "metadata": {},
   "outputs": [
    {
     "data": {
      "text/plain": [
       "0.6666666666666666"
      ]
     },
     "execution_count": 37,
     "metadata": {},
     "output_type": "execute_result"
    }
   ],
   "source": [
    "prob_cond(B,C)"
   ]
  },
  {
   "cell_type": "markdown",
   "id": "22076567",
   "metadata": {},
   "source": [
    "## Independencia de eventos \n",
    "\n",
    "Decimos que dos eventos $A$ y $B$ son independientes si\n",
    "$$ \\mathbb{P}(A\\cap B) = \\mathbb{P}(A)\\mathbb{P}(B)$$\n",
    "o de manera equivalente \n",
    "$$ \\mathbb{P}(A \\mid B) \\mathbb{P}(A) $$"
   ]
  },
  {
   "cell_type": "code",
   "execution_count": 38,
   "id": "ea628ad7",
   "metadata": {},
   "outputs": [],
   "source": [
    "def prob(E):\n",
    "    return len(E) / len(Omega)"
   ]
  },
  {
   "cell_type": "code",
   "execution_count": 39,
   "id": "1e8ca062",
   "metadata": {},
   "outputs": [],
   "source": [
    "def indep(E,F):\n",
    "    return prob(E & F) == prob(E)*prob(F)"
   ]
  },
  {
   "cell_type": "code",
   "execution_count": 40,
   "id": "ffc5a848",
   "metadata": {},
   "outputs": [
    {
     "data": {
      "text/plain": [
       "False"
      ]
     },
     "execution_count": 40,
     "metadata": {},
     "output_type": "execute_result"
    }
   ],
   "source": [
    "indep(B,C)"
   ]
  },
  {
   "cell_type": "markdown",
   "id": "d475f735",
   "metadata": {},
   "source": [
    "### **EJEMPLO** \n",
    "Sea el experimento aleatorio de lanzar un dado dos veces. Sabemos que el espacio muestral es el siguiente:\n",
    "$$ \\Omega = \\{(i,j) \\mid i,j \\in \\{1,2,3,4,5,6\\} \\}$$ \n",
    "y además $|\\Omega|=6^2 = 36$"
   ]
  },
  {
   "cell_type": "code",
   "execution_count": 41,
   "id": "a12236f3",
   "metadata": {},
   "outputs": [
    {
     "data": {
      "text/plain": [
       "{(1, 1),\n",
       " (1, 2),\n",
       " (1, 3),\n",
       " (1, 4),\n",
       " (1, 5),\n",
       " (1, 6),\n",
       " (2, 1),\n",
       " (2, 2),\n",
       " (2, 3),\n",
       " (2, 4),\n",
       " (2, 5),\n",
       " (2, 6),\n",
       " (3, 1),\n",
       " (3, 2),\n",
       " (3, 3),\n",
       " (3, 4),\n",
       " (3, 5),\n",
       " (3, 6),\n",
       " (4, 1),\n",
       " (4, 2),\n",
       " (4, 3),\n",
       " (4, 4),\n",
       " (4, 5),\n",
       " (4, 6),\n",
       " (5, 1),\n",
       " (5, 2),\n",
       " (5, 3),\n",
       " (5, 4),\n",
       " (5, 5),\n",
       " (5, 6),\n",
       " (6, 1),\n",
       " (6, 2),\n",
       " (6, 3),\n",
       " (6, 4),\n",
       " (6, 5),\n",
       " (6, 6)}"
      ]
     },
     "execution_count": 41,
     "metadata": {},
     "output_type": "execute_result"
    }
   ],
   "source": [
    "Omega_dado = set(product([1,2,3,4,5,6],repeat=2))\n",
    "Omega_dado"
   ]
  },
  {
   "cell_type": "code",
   "execution_count": 42,
   "id": "ce868c45",
   "metadata": {},
   "outputs": [
    {
     "data": {
      "text/plain": [
       "36"
      ]
     },
     "execution_count": 42,
     "metadata": {},
     "output_type": "execute_result"
    }
   ],
   "source": [
    "card_Om2 = len(Omega_dado)\n",
    "card_Om2"
   ]
  },
  {
   "cell_type": "markdown",
   "id": "0dfa317e",
   "metadata": {},
   "source": [
    "Definimos el evento\n",
    "- $S_n$: la suma de los dados es $n$, es decir,\n",
    "  $$ S_n = \\{(i,j)\\in\\xOmega \\mid i+j = n \\}$$   "
   ]
  },
  {
   "cell_type": "code",
   "execution_count": 44,
   "id": "a2368aec",
   "metadata": {},
   "outputs": [],
   "source": [
    "def S(n):\n",
    "    Sn = { (i,j) for i in range(1,7) for j in range(1,7) if i+j == n}\n",
    "    # range genera una secuencia de numeros enteros del 1 al 6\n",
    "    return Sn"
   ]
  },
  {
   "cell_type": "code",
   "execution_count": 45,
   "id": "77b12133",
   "metadata": {},
   "outputs": [
    {
     "data": {
      "text/plain": [
       "{(3, 6), (4, 5), (5, 4), (6, 3)}"
      ]
     },
     "execution_count": 45,
     "metadata": {},
     "output_type": "execute_result"
    }
   ],
   "source": [
    "S_nueve = S(9)\n",
    "S_nueve"
   ]
  },
  {
   "cell_type": "code",
   "execution_count": 46,
   "id": "0b79f689",
   "metadata": {},
   "outputs": [
    {
     "data": {
      "text/plain": [
       "0.1111111111111111"
      ]
     },
     "execution_count": 46,
     "metadata": {},
     "output_type": "execute_result"
    }
   ],
   "source": [
    "len(S_nueve) / card_Om2"
   ]
  },
  {
   "cell_type": "markdown",
   "id": "5856e11e",
   "metadata": {},
   "source": [
    "**Ejercicio** Calcular las probabilidades faltantes\n",
    "- $S$: todos los resultados son soles\n",
    "- $E$: por lo menos un resultado es sol"
   ]
  },
  {
   "cell_type": "code",
   "execution_count": 47,
   "id": "c7c94a49",
   "metadata": {},
   "outputs": [],
   "source": [
    "# Vamos a crear el espacio muestral \n",
    "# Importamos el modulo\n",
    "import itertools \n",
    "from itertools import product"
   ]
  },
  {
   "cell_type": "code",
   "execution_count": 48,
   "id": "aba16008",
   "metadata": {},
   "outputs": [
    {
     "data": {
      "text/plain": [
       "{('A', 'A', 'A'),\n",
       " ('A', 'A', 'S'),\n",
       " ('A', 'S', 'A'),\n",
       " ('A', 'S', 'S'),\n",
       " ('S', 'A', 'A'),\n",
       " ('S', 'A', 'S'),\n",
       " ('S', 'S', 'A'),\n",
       " ('S', 'S', 'S')}"
      ]
     },
     "execution_count": 48,
     "metadata": {},
     "output_type": "execute_result"
    }
   ],
   "source": [
    "Omega = set(product({\"A\",\"S\"}, repeat=3))\n",
    "# product -> genera todas las tuplas de longitud 3\n",
    "# set -> lo convierte en conjunto\n",
    "Omega"
   ]
  },
  {
   "cell_type": "markdown",
   "id": "437c553b",
   "metadata": {},
   "source": [
    "**Solución** Para $S$, vamos a descomponer al conjunto de la siguiente manera: $S = S_1 \\cap S_2 \\cap S_3$ donde $S_{i}:$ cae sol en el i-esimo coordenada."
   ]
  },
  {
   "cell_type": "code",
   "execution_count": 49,
   "id": "eaa725cd",
   "metadata": {},
   "outputs": [
    {
     "data": {
      "text/plain": [
       "{('S', 'A', 'A'), ('S', 'A', 'S'), ('S', 'S', 'A'), ('S', 'S', 'S')}"
      ]
     },
     "execution_count": 49,
     "metadata": {},
     "output_type": "execute_result"
    }
   ],
   "source": [
    "# Vamos a crear el evento S1\n",
    "S_1 = {om for om in Omega if om[0]==\"S\"} \n",
    "S_1"
   ]
  },
  {
   "cell_type": "code",
   "execution_count": 50,
   "id": "26e3a759",
   "metadata": {},
   "outputs": [
    {
     "data": {
      "text/plain": [
       "{('A', 'S', 'A'), ('A', 'S', 'S'), ('S', 'S', 'A'), ('S', 'S', 'S')}"
      ]
     },
     "execution_count": 50,
     "metadata": {},
     "output_type": "execute_result"
    }
   ],
   "source": [
    "# Vamos a crear el evento S2\n",
    "S_2 = {om for om in Omega if om[1]==\"S\"} \n",
    "S_2"
   ]
  },
  {
   "cell_type": "code",
   "execution_count": 51,
   "id": "f1ec3ca6",
   "metadata": {},
   "outputs": [
    {
     "data": {
      "text/plain": [
       "{('A', 'A', 'S'), ('A', 'S', 'S'), ('S', 'A', 'S'), ('S', 'S', 'S')}"
      ]
     },
     "execution_count": 51,
     "metadata": {},
     "output_type": "execute_result"
    }
   ],
   "source": [
    "# Vamos a crear el evento S3\n",
    "S_3 = {om for om in Omega if om[2]==\"S\"} \n",
    "S_3"
   ]
  },
  {
   "cell_type": "code",
   "execution_count": 52,
   "id": "19998955",
   "metadata": {},
   "outputs": [
    {
     "data": {
      "text/plain": [
       "{('A', 'A', 'S'), ('A', 'S', 'S'), ('S', 'A', 'S'), ('S', 'S', 'S')}"
      ]
     },
     "execution_count": 52,
     "metadata": {},
     "output_type": "execute_result"
    }
   ],
   "source": [
    "# Vamos a crear el evento S3\n",
    "S_3 = {om for om in Omega if om[2]==\"S\"} \n",
    "S_3# Vamos a crear el evento S3\n",
    "S_3 = {om for om in Omega if om[2]==\"S\"} \n",
    "S_3"
   ]
  },
  {
   "cell_type": "code",
   "execution_count": 53,
   "id": "9e409057",
   "metadata": {},
   "outputs": [
    {
     "data": {
      "text/plain": [
       "{('S', 'S', 'S')}"
      ]
     },
     "execution_count": 53,
     "metadata": {},
     "output_type": "execute_result"
    }
   ],
   "source": [
    "# Vamos a crear el evento A\n",
    "S = S_1.intersection(S_2.intersection(S_3))  \n",
    "S"
   ]
  },
  {
   "cell_type": "code",
   "execution_count": 54,
   "id": "727b00ca",
   "metadata": {},
   "outputs": [],
   "source": [
    "card_S=len(S)"
   ]
  },
  {
   "cell_type": "code",
   "execution_count": 55,
   "id": "6758bb60",
   "metadata": {},
   "outputs": [
    {
     "name": "stdout",
     "output_type": "stream",
     "text": [
      "La probabilidad de que todos los resultados sean soles es 0.125\n"
     ]
    }
   ],
   "source": [
    "# Calculamos la probabilidad \n",
    "P_S = card_S / len(Omega)\n",
    "print(f\"La probabilidad de que todos los resultados sean soles es {P_S}\")"
   ]
  },
  {
   "cell_type": "markdown",
   "id": "e46c3992",
   "metadata": {},
   "source": [
    " **Solución** Para $E$, vamos a descomponer al conjunto de la siguiente manera: $E = S_1 \\cup S_2 \\cup S_3$ donde $S_{i}:$ cae sol en el i-esimo coordenada."
   ]
  },
  {
   "cell_type": "code",
   "execution_count": 56,
   "id": "f4b0942c",
   "metadata": {},
   "outputs": [],
   "source": [
    "# Aprovechando que ya se tienen definidos los conjuntos S_i solo resta realizar la union "
   ]
  },
  {
   "cell_type": "code",
   "execution_count": 57,
   "id": "91ca949d",
   "metadata": {},
   "outputs": [
    {
     "data": {
      "text/plain": [
       "{('A', 'A', 'S'),\n",
       " ('A', 'S', 'A'),\n",
       " ('A', 'S', 'S'),\n",
       " ('S', 'A', 'A'),\n",
       " ('S', 'A', 'S'),\n",
       " ('S', 'S', 'A'),\n",
       " ('S', 'S', 'S')}"
      ]
     },
     "execution_count": 57,
     "metadata": {},
     "output_type": "execute_result"
    }
   ],
   "source": [
    "E = S_1.union(S_2.union(S_3)) \n",
    "E"
   ]
  },
  {
   "cell_type": "code",
   "execution_count": 58,
   "id": "6c4e0052",
   "metadata": {},
   "outputs": [],
   "source": [
    "card_E=len(E)"
   ]
  },
  {
   "cell_type": "code",
   "execution_count": 59,
   "id": "d477138b",
   "metadata": {},
   "outputs": [
    {
     "name": "stdout",
     "output_type": "stream",
     "text": [
      "La probabilidad de que por lo menos un resultado sea sol es 0.875\n"
     ]
    }
   ],
   "source": [
    "# Calculamos la probabilidad \n",
    "P_E = card_E / len(Omega)\n",
    "print(f\"La probabilidad de que por lo menos un resultado sea sol es {P_E}\")"
   ]
  },
  {
   "cell_type": "markdown",
   "id": "8c901bf9",
   "metadata": {},
   "source": [
    "## Probabilidad Frecuentista\n",
    "El espacio muestral es un conjunto finito, y podemois definir la probabilidad asociada a un evento 𝐴:\n",
    "\n",
    "𝑓𝑛(𝐴)=𝑛(𝐴)𝑛\n",
    "\n",
    "donde 𝑛(𝐴)\n",
    " es el número de veces que ocurre 𝐴\n",
    " y 𝑛\n",
    " es el número de veces qye se realiza el experiemento."
   ]
  },
  {
   "cell_type": "code",
   "execution_count": 60,
   "id": "de2bdc4d",
   "metadata": {},
   "outputs": [],
   "source": [
    "import random #para generar números aleatorios\n",
    "\n",
    "#Se tiene el lanzamiento de monedas (no justas) ---> volados\n",
    "\n",
    "def volado(p): #regresa la proba de obtener sol\n",
    "    return 'sol' if random.random() < p else 'águila' #random.random() genera un número entre 0 y 1 volado(0.4) 'águila'\n",
    "\n",
    "# Vamos a realizar 10 volados con p=0.4\n",
    "\n",
    "a = [volado(0.4) for i in range(10)] # creando una lista\n"
   ]
  },
  {
   "cell_type": "code",
   "execution_count": 61,
   "id": "88c5c124",
   "metadata": {},
   "outputs": [
    {
     "data": {
      "text/plain": [
       "4"
      ]
     },
     "execution_count": 61,
     "metadata": {},
     "output_type": "execute_result"
    }
   ],
   "source": [
    "# Para contar el número de soles en una lista\n",
    "\n",
    "a.count('sol')\n"
   ]
  },
  {
   "cell_type": "code",
   "execution_count": 62,
   "id": "dc0003a1",
   "metadata": {},
   "outputs": [
    {
     "data": {
      "text/plain": [
       "6"
      ]
     },
     "execution_count": 62,
     "metadata": {},
     "output_type": "execute_result"
    }
   ],
   "source": [
    "a.count('águila')"
   ]
  },
  {
   "cell_type": "code",
   "execution_count": 63,
   "id": "e6451259",
   "metadata": {},
   "outputs": [],
   "source": [
    "# Tambien se puede hacer con un bucle\n",
    "resultados = [] #lista vacia\n",
    "for i in range(10):\n",
    "    resultado = volado(0.4)\n",
    "    resultados.append(resultado)"
   ]
  },
  {
   "cell_type": "markdown",
   "id": "d45bcdbf",
   "metadata": {},
   "source": [
    "Simularemos una probabilidad frecuentista"
   ]
  },
  {
   "cell_type": "code",
   "execution_count": 64,
   "id": "e83259e4",
   "metadata": {},
   "outputs": [
    {
     "name": "stdout",
     "output_type": "stream",
     "text": [
      "Probabilidad frecuentista promedio de obtener sol: 0.6298079999999987\n"
     ]
    }
   ],
   "source": [
    "p = [] #lista vacia para almacenar probabilidades\n",
    "\n",
    "for i in range(1000): #realizamos 1000 experimentos\n",
    "    N = 1000 #cada experimento tiene 1000 volados\n",
    "    resultados = [] #almacena 'sol' o 'águila' de ese experimento\n",
    "\n",
    "    for i in range(N):\n",
    "        resultado = volado(0.63)\n",
    "        resultados.append(resultado)\n",
    "\n",
    "    n_soles = resultados.count('sol') #cuenta el número de soles\n",
    "    p_soles = n_soles / N #calcula la probabilidad frecuentista\n",
    "\n",
    "    p.append(p_soles) #almacena las probabilidades en la lista p\n",
    "\n",
    "# Probabilidad frecuentista promedio\n",
    "p_soles_prom = sum(p) / 1000 # por la Ley de los Grandes Números\n",
    "\n",
    "print(f'Probabilidad frecuentista promedio de obtener sol: {p_soles_prom}')   "
   ]
  },
  {
   "cell_type": "code",
   "execution_count": null,
   "id": "b5528651",
   "metadata": {},
   "outputs": [],
   "source": []
  }
 ],
 "metadata": {
  "kernelspec": {
   "display_name": "Python 3 (ipykernel)",
   "language": "python",
   "name": "python3"
  },
  "language_info": {
   "codemirror_mode": {
    "name": "ipython",
    "version": 3
   },
   "file_extension": ".py",
   "mimetype": "text/x-python",
   "name": "python",
   "nbconvert_exporter": "python",
   "pygments_lexer": "ipython3",
   "version": "3.9.7"
  }
 },
 "nbformat": 4,
 "nbformat_minor": 5
}
