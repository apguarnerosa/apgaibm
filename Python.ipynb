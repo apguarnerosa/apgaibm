{
  "cells": [
    {
      "cell_type": "markdown",
      "metadata": {
        "id": "view-in-github",
        "colab_type": "text"
      },
      "source": [
        "<a href=\"https://colab.research.google.com/github/apguarnerosa/apgaibm/blob/main/Python.ipynb\" target=\"_parent\"><img src=\"https://colab.research.google.com/assets/colab-badge.svg\" alt=\"Open In Colab\"/></a>"
      ]
    },
    {
      "cell_type": "markdown",
      "source": [
        "# **TIPOS** **DE** **DATO**"
      ],
      "metadata": {
        "id": "zpKPZtFcv5Kh"
      }
    },
    {
      "cell_type": "code",
      "source": [
        "edad = 30\n",
        "precio = 19.99\n",
        "nombre = \"Samuel\"\n",
        "esta_activo = True"
      ],
      "metadata": {
        "id": "oqgrwLkXuCKZ"
      },
      "execution_count": 1,
      "outputs": []
    },
    {
      "cell_type": "code",
      "source": [
        "print(type(edad))\n",
        "print(type(precio))\n",
        "print(type(nombre))\n",
        "print(type(esta_activo))\n"
      ],
      "metadata": {
        "colab": {
          "base_uri": "https://localhost:8080/"
        },
        "id": "aaCvbZM-uTre",
        "outputId": "9ae45bd6-0048-44c4-ec02-0e032adcd234"
      },
      "execution_count": 2,
      "outputs": [
        {
          "output_type": "stream",
          "name": "stdout",
          "text": [
            "<class 'int'>\n",
            "<class 'float'>\n",
            "<class 'str'>\n",
            "<class 'bool'>\n"
          ]
        }
      ]
    },
    {
      "cell_type": "markdown",
      "source": [
        "# **OPERACIONES** **BÁSICAS**"
      ],
      "metadata": {
        "id": "zOhn7bjXvw9D"
      }
    },
    {
      "cell_type": "code",
      "source": [
        "numero1 = 10\n",
        "numero2 = 5"
      ],
      "metadata": {
        "id": "PLFKkYaqu9xx"
      },
      "execution_count": 3,
      "outputs": []
    },
    {
      "cell_type": "code",
      "source": [
        "suma = numero1 + numero2\n",
        "resta = numero1 - numero2\n",
        "multiplicacion = numero1 * numero2\n",
        "division = numero1 / numero2\n",
        "\n",
        "print('Suma: ', suma)\n",
        "print('Resta: ', resta)\n",
        "print('Multiplicación: ', multiplicacion)\n",
        "print('Division: ', division)"
      ],
      "metadata": {
        "colab": {
          "base_uri": "https://localhost:8080/"
        },
        "id": "GptS6Pq2vFXr",
        "outputId": "aa3e7f33-8479-47ef-f6b9-9fd6c72fd236"
      },
      "execution_count": 4,
      "outputs": [
        {
          "output_type": "stream",
          "name": "stdout",
          "text": [
            "Suma:  15\n",
            "Resta:  5\n",
            "Multiplicación:  50\n",
            "Division:  2.0\n"
          ]
        }
      ]
    },
    {
      "cell_type": "markdown",
      "source": [
        "# **CADENAS DE TEXTO**"
      ],
      "metadata": {
        "id": "mYl_LTiXwDfW"
      }
    },
    {
      "cell_type": "code",
      "source": [
        "#Concatenacion de cadenas de texto\n",
        "\n",
        "saludo = 'Hola, '\n",
        "nombre_completo = saludo + 'Ana'\n",
        "\n",
        "print(nombre_completo)"
      ],
      "metadata": {
        "colab": {
          "base_uri": "https://localhost:8080/"
        },
        "id": "Nxp0IfsfwCOz",
        "outputId": "9e6e90ec-5be3-458f-fa70-542ff466c4c8"
      },
      "execution_count": 5,
      "outputs": [
        {
          "output_type": "stream",
          "name": "stdout",
          "text": [
            "Hola, Ana\n"
          ]
        }
      ]
    },
    {
      "cell_type": "code",
      "source": [
        "# Repetición de cadena\n",
        "repetir_texto = 'Python ' * 3\n",
        "\n",
        "print(repetir_texto)"
      ],
      "metadata": {
        "colab": {
          "base_uri": "https://localhost:8080/"
        },
        "id": "I0EqUM3nwz96",
        "outputId": "1a8a8408-f1bf-4cc3-cee5-71915c16aa4a"
      },
      "execution_count": 6,
      "outputs": [
        {
          "output_type": "stream",
          "name": "stdout",
          "text": [
            "Python Python Python \n"
          ]
        }
      ]
    },
    {
      "cell_type": "markdown",
      "source": [
        "# **SENTENCIAS CONDICIONALES**"
      ],
      "metadata": {
        "id": "HxvdcC8-xbk_"
      }
    },
    {
      "cell_type": "code",
      "source": [
        "# if, elif, else\n",
        "\n",
        "# Creación de una sentencia para saber si el número es par o impar\n",
        "\n",
        "numero = 10\n",
        "\n",
        "if numero % 2 == 0:\n",
        "  print('El número:', numero, 'es par')\n",
        "else:\n",
        "  print('El número:', numero, 'es impar')\n"
      ],
      "metadata": {
        "colab": {
          "base_uri": "https://localhost:8080/"
        },
        "id": "A4NcZYJ_xhtM",
        "outputId": "5bf26abd-f138-49cb-c9e0-471a9ef33ced"
      },
      "execution_count": 9,
      "outputs": [
        {
          "output_type": "stream",
          "name": "stdout",
          "text": [
            "El número: 7 es impar\n"
          ]
        }
      ]
    },
    {
      "cell_type": "code",
      "source": [
        "# Ejercicio\n",
        "\n",
        "# Creacion de una variable 'total_compra' que sea la suma de todas las compras realizadas\n",
        "\n",
        "art1 = 2\n",
        "art2 = 11\n",
        "art3 = 2\n",
        "art4 = 7\n",
        "art5 = 5\n",
        "\n",
        "total_compra = sum([art1, art2, art3, art4, art5])\n",
        "\n",
        "if total_compra >= 100:\n",
        "  print('¡Felicidades!, tienes un 10% adicional')\n",
        "else:\n",
        "  print('¡Continua comprando para ganar un descuento!')"
      ],
      "metadata": {
        "colab": {
          "base_uri": "https://localhost:8080/"
        },
        "id": "LmCMuo4Qz_sB",
        "outputId": "1d7cc917-e070-4adb-e21d-88dcc1cb37c9"
      },
      "execution_count": 12,
      "outputs": [
        {
          "output_type": "stream",
          "name": "stdout",
          "text": [
            "¡Continua comprando para ganar un descuento!\n"
          ]
        }
      ]
    },
    {
      "cell_type": "markdown",
      "source": [
        "## **BUCLES**"
      ],
      "metadata": {
        "id": "YzTcbhTylpFs"
      }
    },
    {
      "cell_type": "markdown",
      "source": [
        "**Ciclo for**"
      ],
      "metadata": {
        "id": "LGqySNGtmcIT"
      }
    },
    {
      "cell_type": "code",
      "source": [
        "# Ciclo for\n",
        "\n",
        "# 1. Realiza una lista/tupla\n",
        "\n",
        "frutas = [\"manzana\", \"fresa\", \"kiwi\", \"pera\", \"sandia\", \"platano\"]\n",
        "\n",
        "for i in frutas:\n",
        "  print(i)"
      ],
      "metadata": {
        "id": "N1oPk0yXlud-",
        "outputId": "0a468edf-3729-42f0-c35b-84dae5b6f389",
        "colab": {
          "base_uri": "https://localhost:8080/"
        }
      },
      "execution_count": 1,
      "outputs": [
        {
          "output_type": "stream",
          "name": "stdout",
          "text": [
            "manzana\n",
            "fresa\n",
            "kiwi\n",
            "pera\n",
            "sandia\n",
            "platano\n"
          ]
        }
      ]
    },
    {
      "cell_type": "markdown",
      "source": [
        "**Ciclo while**"
      ],
      "metadata": {
        "id": "qZff4UwDmgAs"
      }
    },
    {
      "cell_type": "code",
      "source": [
        "# Ciclo while\n",
        "\n",
        "contador = 1\n",
        "\n",
        "while contador <= 5:\n",
        "  print(contador)\n",
        "  contador += 1"
      ],
      "metadata": {
        "id": "MoVsXiIHmi74",
        "outputId": "66d5440c-7026-4e1a-d5b5-8700cedbb82a",
        "colab": {
          "base_uri": "https://localhost:8080/"
        }
      },
      "execution_count": 4,
      "outputs": [
        {
          "output_type": "stream",
          "name": "stdout",
          "text": [
            "1\n",
            "2\n",
            "3\n",
            "4\n",
            "5\n"
          ]
        }
      ]
    },
    {
      "cell_type": "code",
      "source": [
        "# Ejercicio while\n",
        "\n",
        "calificaciones = [8.6, 9.0, 10.0, 8.7, 9.3]\n",
        "\n",
        "suma_calificaciones = 0\n",
        "\n",
        "for i in calificaciones:\n",
        "  suma_calificaciones += i\n",
        "\n",
        "\n",
        "promedio = suma_calificaciones / len(calificaciones)\n",
        "print(promedio)\n",
        "\n",
        "# Para calcular el promedio se tuvo que sacar el promedio del ciclo for, ya que\n",
        "# el ciclo for solo hará la suma de las calificaciones y el promedio\n",
        "# se hará una vez que tengas la suma total de las calificaciones"
      ],
      "metadata": {
        "id": "_FRZo7SJoMMT",
        "outputId": "afe046e7-9059-4294-d7e8-ceebac4ab7fe",
        "colab": {
          "base_uri": "https://localhost:8080/"
        }
      },
      "execution_count": 6,
      "outputs": [
        {
          "output_type": "stream",
          "name": "stdout",
          "text": [
            "9.12\n"
          ]
        }
      ]
    },
    {
      "cell_type": "markdown",
      "source": [
        "# **FUNCIONES**"
      ],
      "metadata": {
        "id": "NPxmXpj2rr6F"
      }
    },
    {
      "cell_type": "code",
      "source": [
        "# Definir la función\n",
        "\n",
        "def sumar_numeros(valor1, valor2):\n",
        "  suma = valor1 + valor2\n",
        "  return suma\n",
        "\n",
        "resultado_suma = sumar_numeros(4, 9)\n",
        "\n",
        "print('El resultado de la suma es:', resultado_suma)"
      ],
      "metadata": {
        "id": "S7XXoZcFtTFJ",
        "outputId": "c1abedee-e1dd-4727-e938-39fa6fd219db",
        "colab": {
          "base_uri": "https://localhost:8080/"
        }
      },
      "execution_count": 10,
      "outputs": [
        {
          "output_type": "stream",
          "name": "stdout",
          "text": [
            "13\n",
            "El resultado de la suma es: None\n"
          ]
        }
      ]
    },
    {
      "cell_type": "code",
      "source": [
        "# Ejercicio 1\n",
        "\n",
        "def celsius_farenheit(celsius):\n",
        "  farenheit = (celsius * (9/5)) + 32\n",
        "  return farenheit\n",
        "\n",
        "temperatura = celsius_farenheit(180)\n",
        "\n",
        "print(temperatura)"
      ],
      "metadata": {
        "id": "79ymmPCK7RNR",
        "outputId": "ba90fae5-1166-4265-9b20-c1a66263e6eb",
        "colab": {
          "base_uri": "https://localhost:8080/"
        }
      },
      "execution_count": 12,
      "outputs": [
        {
          "output_type": "stream",
          "name": "stdout",
          "text": [
            "356.0\n"
          ]
        }
      ]
    },
    {
      "cell_type": "code",
      "source": [
        "# Ejercicio 2\n",
        "\n",
        "def calcular_precio_con_descuento(precio_original, descuento):\n",
        "  precio_final = (precio_original * descuento) / 100\n",
        "  return precio_final\n",
        "\n",
        "total = calcular_precio_con_descuento(200, 20)\n",
        "print(total)\n"
      ],
      "metadata": {
        "id": "SmTOOBpz9L-O",
        "outputId": "f27edea9-1048-4d89-c263-b4fecbb54f83",
        "colab": {
          "base_uri": "https://localhost:8080/"
        }
      },
      "execution_count": 13,
      "outputs": [
        {
          "output_type": "stream",
          "name": "stdout",
          "text": [
            "40.0\n"
          ]
        }
      ]
    },
    {
      "cell_type": "markdown",
      "source": [
        "# **LISTAS**"
      ],
      "metadata": {
        "id": "U2e6S-9l_E57"
      }
    },
    {
      "cell_type": "code",
      "source": [
        "# Creación de listas\n",
        "# Las listas se definen con corchetes []\n",
        "\n",
        "edad = [22,28,29,32,40]\n",
        "nombres = ['Ana', 'Samuel', 'Mufasa', 'Maya', 'Planti']\n",
        "\n",
        "# Para acceder a un objeto de una lista, se coloca el nombre de la lista\n",
        "# y la posición que deseas ver, empezando el conteo desde el 0 (cero)\n",
        "\n",
        "print(edad[2])\n",
        "print(nombres[3])"
      ],
      "metadata": {
        "id": "K4rOXg3g_ItL",
        "outputId": "7ab7bf69-a80e-4fe2-b582-b97ecf01ea9e",
        "colab": {
          "base_uri": "https://localhost:8080/"
        }
      },
      "execution_count": 15,
      "outputs": [
        {
          "output_type": "stream",
          "name": "stdout",
          "text": [
            "29\n",
            "Maya\n"
          ]
        }
      ]
    },
    {
      "cell_type": "code",
      "source": [
        "# Para modificar un valor de una lista se selecciona el nombre de la lista\n",
        "# junto con la posición que deseas modificar despues signo = y el nuevo valor\n",
        "\n",
        "edad[0] = 37\n",
        "\n",
        "print('Nueva lista actualizada: ', edad)"
      ],
      "metadata": {
        "id": "4-ASr-f5AIKf",
        "outputId": "04cb87b8-f6b5-4650-dde5-51feaf71a099",
        "colab": {
          "base_uri": "https://localhost:8080/"
        }
      },
      "execution_count": 16,
      "outputs": [
        {
          "output_type": "stream",
          "name": "stdout",
          "text": [
            "Nueva lista actualizada:  [37, 28, 29, 32, 40]\n"
          ]
        }
      ]
    }
  ],
  "metadata": {
    "colab": {
      "name": "Te damos la bienvenida a Colab",
      "toc_visible": true,
      "provenance": [],
      "include_colab_link": true
    },
    "kernelspec": {
      "display_name": "Python 3",
      "name": "python3"
    }
  },
  "nbformat": 4,
  "nbformat_minor": 0
}